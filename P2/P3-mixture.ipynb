{
 "cells": [
  {
   "cell_type": "code",
   "execution_count": 1,
   "metadata": {},
   "outputs": [
    {
     "name": "stderr",
     "output_type": "stream",
     "text": [
      "/var/folders/3b/rvx77r6s2kl2yr03y978j7000000gn/T/ipykernel_12908/220132428.py:16: DeprecationWarning: XML_Node::build: \n",
      "The CTI and XML input file formats are deprecated and will be removed in\n",
      "Cantera 3.0. Use 'cti2yaml.py' or 'ctml2yaml.py' to convert CTI or XML input\n",
      "files to the YAML format. See https://cantera.org/tutorials/legacy2yaml.html\n",
      "for more information.\n",
      "  gas = ct.Solution('Jerzembeck.cti')\n"
     ]
    },
    {
     "name": "stdout",
     "output_type": "stream",
     "text": [
      "At phi =       0.3982, Tad =         1720\n"
     ]
    }
   ],
   "source": [
    "import cantera as ct\n",
    "import numpy as np\n",
    "import sys\n",
    "import csv\n",
    "\n",
    "##############################################################################\n",
    "# Edit these parameters to change the initial temperature, the pressure, and\n",
    "# the phases in the mixture.\n",
    "\n",
    "T = 800\n",
    "P = 30 * ct.one_atm\n",
    "\n",
    "species = ['CO','NO']\n",
    "list =[[],[]]\n",
    "# phases\n",
    "gas = ct.Solution('Jerzembeck.cti')\n",
    "carbon = ct.Solution('Jerzembeck.cti')\n",
    "\n",
    "# the phases that will be included in the calculation, and their initial moles\n",
    "mix_phases = [(gas, 1.0), (carbon, 0.0)]\n",
    "\n",
    "# gaseous fuel species\n",
    "fuel_species = 'IXC8H18'\n",
    "\n",
    "# equivalence ratio range\n",
    "\n",
    "phi=0.3982\n",
    "\n",
    "##############################################################################\n",
    "\n",
    "mix = ct.Mixture(mix_phases)\n",
    "\n",
    "# create some arrays to hold the data\n",
    "xeq = np.zeros(mix.n_species)\n",
    "gas.set_equivalence_ratio(phi, fuel_species, 'O2:1.0, N2:3.76')\n",
    "\n",
    "# create a mixture of 1 mole of gas, and 0 moles of solid carbon.\n",
    "mix = ct.Mixture(mix_phases)\n",
    "mix.T = T\n",
    "mix.P = P\n",
    "\n",
    "# equilibrate the mixture adiabatically at constant P\n",
    "mix.equilibrate('HP', solver='gibbs', max_steps=1000)\n",
    "\n",
    "tad = mix.T\n",
    "print('At phi = {0:12.4g}, Tad = {1:12.4g}'.format(phi, tad))\n",
    "xeq[:] = mix.species_moles\n",
    "\n",
    "for j in range(len(species)):\n",
    "    list[j].append(gas.X[gas.species_index(species[j])])\n",
    "            \n",
    "# fig, ax1 = plt.subplots()\n",
    "\n",
    "# ax2 = ax1.twinx()\n",
    "\n",
    "# for j in range(len(species)):\n",
    "#     ax1.plot(phi2, list[j], label=species[j], lw=1)\n",
    "\n",
    "# ax2.plot(phi2, tad,'--', label=\"Tad_C8H18\", lw=2, color ='c')\n",
    "# ax1.grid(True)\n",
    "# ax1.legend(loc='upper left')\n",
    "# ax2.legend()\n",
    "\n",
    "\n",
    "# ax1.set_xlabel('Phi')\n",
    "# ax1.set_ylabel('Composition', color='g')\n",
    "# ax1.set_yscale('log')\n",
    "# ax2.set_ylabel('T_ad', color='b')\n",
    "\n",
    "# plt.show()\n",
    "    "
   ]
  }
 ],
 "metadata": {
  "kernelspec": {
   "display_name": "Python 3.10.2 64-bit",
   "language": "python",
   "name": "python3"
  },
  "language_info": {
   "codemirror_mode": {
    "name": "ipython",
    "version": 3
   },
   "file_extension": ".py",
   "mimetype": "text/x-python",
   "name": "python",
   "nbconvert_exporter": "python",
   "pygments_lexer": "ipython3",
   "version": "3.10.2"
  },
  "orig_nbformat": 4,
  "vscode": {
   "interpreter": {
    "hash": "aee8b7b246df8f9039afb4144a1f6fd8d2ca17a180786b69acc140d282b71a49"
   }
  }
 },
 "nbformat": 4,
 "nbformat_minor": 2
}
